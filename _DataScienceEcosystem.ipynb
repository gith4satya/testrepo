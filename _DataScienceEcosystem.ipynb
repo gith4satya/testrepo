{
 "cells": [
  {
   "cell_type": "markdown",
   "id": "86f89fd6-8c03-44cf-bc2e-2d650b3e50ee",
   "metadata": {},
   "source": [
    "# Data Science Tools and Ecosystem"
   ]
  },
  {
   "cell_type": "markdown",
   "id": "d530c60b-eb45-4c59-aa23-ce441cc1bf2e",
   "metadata": {},
   "source": [
    "In this notebook, Data Science Tools and Ecosystem are summarized."
   ]
  },
  {
   "cell_type": "markdown",
   "id": "45b77212-e0df-4673-8cf5-187bb2b3f3ec",
   "metadata": {},
   "source": [
    "**Objectives:**\n",
    "* List popular languages for Data Science\n",
    "* Add Markdown Cells with headings\n",
    "* Add comments to Code Cells\n",
    "* Write Arithmetic expressions in Code cells\n",
    "* Create Order Lists and unordered lists in Markdown cells"
   ]
  },
  {
   "cell_type": "markdown",
   "id": "af929b39-bba9-4afa-a071-11a6b1ea6b39",
   "metadata": {},
   "source": [
    "Some of the popular languages that Data Scientists use are:\n",
    "\n",
    "    1. Python\n",
    "    2. R\n",
    "    3. SQL\n",
    "    4. Scala\n",
    "    5. Julia\n",
    "    6. Java"
   ]
  },
  {
   "cell_type": "markdown",
   "id": "e371867b-35b9-4ee3-a1ec-013301096aa9",
   "metadata": {},
   "source": [
    "Some of the commonly used libraries used by Data Scientists include:\n",
    "\n",
    "    1. Pandas\n",
    "    2. NumPy\n",
    "    3. Matplotlib\n",
    "    4. Tensorflow\n",
    "    5. Scikit-learn\n",
    "    6. Pytorch"
   ]
  },
  {
   "cell_type": "markdown",
   "id": "771fb8bc-ecc1-4336-81c9-5c1c8d960d2d",
   "metadata": {},
   "source": [
    "| Data Science Tools |\n",
    "| ------------------ |\n",
    "| Jupyter Notebooks  |\n",
    "| RStudio  |\n",
    "| Anaconda |\n",
    "| Spyder |"
   ]
  },
  {
   "cell_type": "markdown",
   "id": "228fb53b-5f48-4955-b20f-f8a36e326bdb",
   "metadata": {},
   "source": [
    "### Below are a few examples of evaluating arithmetic expressions in Python"
   ]
  },
  {
   "cell_type": "code",
   "execution_count": 4,
   "id": "9f3bfde3-3c1f-4f6e-9463-9bce5281123a",
   "metadata": {
    "tags": []
   },
   "outputs": [
    {
     "data": {
      "text/plain": [
       "17"
      ]
     },
     "execution_count": 4,
     "metadata": {},
     "output_type": "execute_result"
    }
   ],
   "source": [
    "#This is a simple arithmetic expression to mutiply then add integers\n",
    "\n",
    "(3*4)+5"
   ]
  },
  {
   "cell_type": "code",
   "execution_count": 5,
   "id": "cb88ec8e-006c-4d95-8efc-3d952fb0b880",
   "metadata": {
    "tags": []
   },
   "outputs": [
    {
     "data": {
      "text/plain": [
       "3.3333333333333335"
      ]
     },
     "execution_count": 5,
     "metadata": {},
     "output_type": "execute_result"
    }
   ],
   "source": [
    "#This will convert 200 minutes to hours by diving by 60\n",
    "200/60"
   ]
  },
  {
   "cell_type": "markdown",
   "id": "a5bb3555-a302-4961-a3e1-98411263df39",
   "metadata": {},
   "source": [
    "## Author\n",
    "Satya Peddireddy"
   ]
  }
 ],
 "metadata": {
  "kernelspec": {
   "display_name": "Python",
   "language": "python",
   "name": "conda-env-python-py"
  },
  "language_info": {
   "codemirror_mode": {
    "name": "ipython",
    "version": 3
   },
   "file_extension": ".py",
   "mimetype": "text/x-python",
   "name": "python",
   "nbconvert_exporter": "python",
   "pygments_lexer": "ipython3",
   "version": "3.7.12"
  }
 },
 "nbformat": 4,
 "nbformat_minor": 5
}
